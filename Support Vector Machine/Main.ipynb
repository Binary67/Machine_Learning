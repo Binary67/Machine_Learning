{
 "cells": [
  {
   "cell_type": "code",
   "execution_count": 1,
   "metadata": {},
   "outputs": [],
   "source": [
    "import pandas as pd\n",
    "import numpy as np\n",
    "from sklearn import preprocessing, svm\n",
    "from sklearn.model_selection import train_test_split"
   ]
  },
  {
   "cell_type": "markdown",
   "metadata": {},
   "source": [
    "### Import Dataset"
   ]
  },
  {
   "cell_type": "code",
   "execution_count": 2,
   "metadata": {},
   "outputs": [],
   "source": [
    "HEADER_ROW = ['ID', 'Clump_Thickness', 'Unif_Cell_Size', 'Unif_Cell_Shape', 'Marginal_Adhesion', \n",
    "              'Single_Epit_Cell_Size', 'Bare_Nuclei', 'Bland_Chromatin', 'Normal_Nucleoli', 'Miroses', 'Label']\n",
    "\n",
    "\n",
    "DATA = pd.read_csv('Dataset/Breast-Cancer-Dataset.txt', names = HEADER_ROW)"
   ]
  },
  {
   "cell_type": "markdown",
   "metadata": {},
   "source": [
    "### Checking Dataset"
   ]
  },
  {
   "cell_type": "code",
   "execution_count": 3,
   "metadata": {},
   "outputs": [
    {
     "name": "stdout",
     "output_type": "stream",
     "text": [
      "ID                       699\n",
      "Clump_Thickness          699\n",
      "Unif_Cell_Size           699\n",
      "Unif_Cell_Shape          699\n",
      "Marginal_Adhesion        699\n",
      "Single_Epit_Cell_Size    699\n",
      "Bare_Nuclei              699\n",
      "Bland_Chromatin          699\n",
      "Normal_Nucleoli          699\n",
      "Miroses                  699\n",
      "Label                    699\n",
      "dtype: int64\n"
     ]
    }
   ],
   "source": [
    "# Check is there any missing value\n",
    "print(DATA.count())"
   ]
  },
  {
   "cell_type": "code",
   "execution_count": 4,
   "metadata": {},
   "outputs": [
    {
     "name": "stdout",
     "output_type": "stream",
     "text": [
      "ID                       0\n",
      "Clump_Thickness          0\n",
      "Unif_Cell_Size           0\n",
      "Unif_Cell_Shape          0\n",
      "Marginal_Adhesion        0\n",
      "Single_Epit_Cell_Size    0\n",
      "Bare_Nuclei              0\n",
      "Bland_Chromatin          0\n",
      "Normal_Nucleoli          0\n",
      "Miroses                  0\n",
      "Label                    0\n",
      "dtype: int64\n"
     ]
    }
   ],
   "source": [
    "# Check is there any null value\n",
    "print(DATA.isnull().sum())"
   ]
  },
  {
   "cell_type": "code",
   "execution_count": 5,
   "metadata": {},
   "outputs": [],
   "source": [
    "# Replace \"?\" with 0\n",
    "DATA.replace('?', 0, inplace = True)\n",
    "DATA.drop(['ID'], 1, inplace = True)"
   ]
  },
  {
   "cell_type": "code",
   "execution_count": 6,
   "metadata": {},
   "outputs": [],
   "source": [
    "X = np.array(DATA.drop(['Label'], 1))\n",
    "Y = np.array(DATA['Label'])\n",
    "\n",
    "# Split the data\n",
    "X_TRAIN, X_TEST, Y_TRAIN, Y_TEST = train_test_split(X, Y, test_size = 0.3, random_state = 42)"
   ]
  },
  {
   "cell_type": "markdown",
   "metadata": {},
   "source": [
    "### Classifier"
   ]
  },
  {
   "cell_type": "code",
   "execution_count": 7,
   "metadata": {},
   "outputs": [
    {
     "name": "stderr",
     "output_type": "stream",
     "text": [
      "/home/franky/Desktop/Coding/Python/Env/NeuralNet/lib/python3.6/site-packages/sklearn/svm/base.py:196: FutureWarning: The default value of gamma will change from 'auto' to 'scale' in version 0.22 to account better for unscaled features. Set gamma explicitly to 'auto' or 'scale' to avoid this warning.\n",
      "  \"avoid this warning.\", FutureWarning)\n"
     ]
    },
    {
     "data": {
      "text/plain": [
       "SVC(C=1.0, cache_size=200, class_weight=None, coef0=0.0,\n",
       "  decision_function_shape='ovr', degree=3, gamma='auto_deprecated',\n",
       "  kernel='rbf', max_iter=-1, probability=False, random_state=None,\n",
       "  shrinking=True, tol=0.001, verbose=False)"
      ]
     },
     "execution_count": 7,
     "metadata": {},
     "output_type": "execute_result"
    }
   ],
   "source": [
    "CLASSIFIER = svm.SVC()\n",
    "CLASSIFIER.fit(X_TRAIN, Y_TRAIN)"
   ]
  },
  {
   "cell_type": "code",
   "execution_count": 8,
   "metadata": {},
   "outputs": [
    {
     "name": "stdout",
     "output_type": "stream",
     "text": [
      "0.9666666666666667\n"
     ]
    }
   ],
   "source": [
    "ACCURACY = CLASSIFIER.score(X_TEST, Y_TEST)\n",
    "print(ACCURACY)"
   ]
  },
  {
   "cell_type": "code",
   "execution_count": 28,
   "metadata": {},
   "outputs": [
    {
     "name": "stdout",
     "output_type": "stream",
     "text": [
      "Test Data Number: 0 || Label : 2 Prediction : [2]\n",
      "Test Data Number: 1 || Label : 2 Prediction : [2]\n",
      "Test Data Number: 2 || Label : 2 Prediction : [2]\n",
      "Test Data Number: 3 || Label : 4 Prediction : [4]\n",
      "Test Data Number: 4 || Label : 2 Prediction : [2]\n",
      "Test Data Number: 5 || Label : 2 Prediction : [2]\n",
      "Test Data Number: 6 || Label : 2 Prediction : [4]\n",
      "Test Data Number: 7 || Label : 4 Prediction : [4]\n",
      "Test Data Number: 8 || Label : 4 Prediction : [4]\n",
      "Test Data Number: 9 || Label : 4 Prediction : [4]\n"
     ]
    }
   ],
   "source": [
    "for i in range(10):\n",
    "    print('Test Data Number:', i, '|| Label :', Y_TEST[i], \n",
    "          'Prediction :', CLASSIFIER.predict(X_TEST[i].reshape(1, -1)))"
   ]
  },
  {
   "cell_type": "code",
   "execution_count": null,
   "metadata": {},
   "outputs": [],
   "source": []
  }
 ],
 "metadata": {
  "kernelspec": {
   "display_name": "Python 3",
   "language": "python",
   "name": "python3"
  },
  "language_info": {
   "codemirror_mode": {
    "name": "ipython",
    "version": 3
   },
   "file_extension": ".py",
   "mimetype": "text/x-python",
   "name": "python",
   "nbconvert_exporter": "python",
   "pygments_lexer": "ipython3",
   "version": "3.6.7"
  }
 },
 "nbformat": 4,
 "nbformat_minor": 2
}
